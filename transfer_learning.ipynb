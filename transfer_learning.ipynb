{
 "cells": [
  {
   "cell_type": "code",
   "execution_count": 19,
   "id": "86cd7c7a",
   "metadata": {
    "tags": []
   },
   "outputs": [],
   "source": [
    "# directory\n",
    "import os\n",
    "import zipfile\n",
    "import shutil\n",
    "import random\n",
    "import itertools\n",
    "from functools import partial\n",
    "from tqdm import tqdm\n",
    "\n",
    "# dataframe\n",
    "import pandas as pd\n",
    "import numpy as np\n",
    "\n",
    "# visualization\n",
    "import matplotlib.pyplot as plt\n",
    "import seaborn as sns\n",
    "\n",
    "# from sklearn.utils import resample\n",
    "from sklearn.model_selection import train_test_split\n",
    "from sklearn.metrics import confusion_matrix, roc_curve\n",
    "from sklearn.metrics import auc as AUC\n",
    "\n",
    "# image processing\n",
    "import cv2\n",
    "import albumentations as A\n",
    "import tensorflow as tf\n",
    "from tensorflow.keras.layers import Conv2D, Flatten, Dense, Dropout, MaxPooling2D, BatchNormalization\n",
    "from tensorflow.keras.models import Sequential, load_model\n",
    "from tensorflow.keras.callbacks import EarlyStopping, Callback, ModelCheckpoint\n",
    "from tensorflow.keras.preprocessing.image import ImageDataGenerator\n",
    "\n",
    "SEED = 123\n",
    "tf.keras.utils.set_random_seed(SEED)\n",
    "tf.config.experimental.enable_op_determinism()\n",
    "\n",
    "AUTOTUNE = tf.data.experimental.AUTOTUNE"
   ]
  },
  {
   "cell_type": "code",
   "execution_count": 20,
   "id": "d052f490-7a7e-462b-8740-8f38925fc9ec",
   "metadata": {
    "tags": []
   },
   "outputs": [],
   "source": [
    "# with zipfile.ZipFile('archive.zip', 'r') as zip_ref:\n",
    "#     zip_ref.extractall('breakhis')"
   ]
  },
  {
   "cell_type": "code",
   "execution_count": 21,
   "id": "c016f496-d7d0-42e3-83dc-1293fda066cc",
   "metadata": {
    "tags": []
   },
   "outputs": [],
   "source": [
    "df = pd.read_csv('breakhis/Folds.csv')\n",
    "\n",
    "root_dir = 'breakhis/'"
   ]
  },
  {
   "cell_type": "code",
   "execution_count": 22,
   "id": "bbbf8271-0286-47f2-8976-4c8cbf73a09a",
   "metadata": {
    "tags": []
   },
   "outputs": [
    {
     "data": {
      "text/html": [
       "<div>\n",
       "<style scoped>\n",
       "    .dataframe tbody tr th:only-of-type {\n",
       "        vertical-align: middle;\n",
       "    }\n",
       "\n",
       "    .dataframe tbody tr th {\n",
       "        vertical-align: top;\n",
       "    }\n",
       "\n",
       "    .dataframe thead th {\n",
       "        text-align: right;\n",
       "    }\n",
       "</style>\n",
       "<table border=\"1\" class=\"dataframe\">\n",
       "  <thead>\n",
       "    <tr style=\"text-align: right;\">\n",
       "      <th></th>\n",
       "      <th>fold</th>\n",
       "      <th>mag</th>\n",
       "      <th>grp</th>\n",
       "      <th>filename</th>\n",
       "    </tr>\n",
       "  </thead>\n",
       "  <tbody>\n",
       "    <tr>\n",
       "      <th>0</th>\n",
       "      <td>1</td>\n",
       "      <td>100</td>\n",
       "      <td>train</td>\n",
       "      <td>BreaKHis_v1/histology_slides/breast/benign/SOB...</td>\n",
       "    </tr>\n",
       "    <tr>\n",
       "      <th>1</th>\n",
       "      <td>1</td>\n",
       "      <td>100</td>\n",
       "      <td>train</td>\n",
       "      <td>BreaKHis_v1/histology_slides/breast/benign/SOB...</td>\n",
       "    </tr>\n",
       "    <tr>\n",
       "      <th>2</th>\n",
       "      <td>1</td>\n",
       "      <td>100</td>\n",
       "      <td>train</td>\n",
       "      <td>BreaKHis_v1/histology_slides/breast/benign/SOB...</td>\n",
       "    </tr>\n",
       "    <tr>\n",
       "      <th>3</th>\n",
       "      <td>1</td>\n",
       "      <td>100</td>\n",
       "      <td>train</td>\n",
       "      <td>BreaKHis_v1/histology_slides/breast/benign/SOB...</td>\n",
       "    </tr>\n",
       "    <tr>\n",
       "      <th>4</th>\n",
       "      <td>1</td>\n",
       "      <td>100</td>\n",
       "      <td>train</td>\n",
       "      <td>BreaKHis_v1/histology_slides/breast/benign/SOB...</td>\n",
       "    </tr>\n",
       "  </tbody>\n",
       "</table>\n",
       "</div>"
      ],
      "text/plain": [
       "   fold  mag    grp                                           filename\n",
       "0     1  100  train  BreaKHis_v1/histology_slides/breast/benign/SOB...\n",
       "1     1  100  train  BreaKHis_v1/histology_slides/breast/benign/SOB...\n",
       "2     1  100  train  BreaKHis_v1/histology_slides/breast/benign/SOB...\n",
       "3     1  100  train  BreaKHis_v1/histology_slides/breast/benign/SOB...\n",
       "4     1  100  train  BreaKHis_v1/histology_slides/breast/benign/SOB..."
      ]
     },
     "execution_count": 22,
     "metadata": {},
     "output_type": "execute_result"
    }
   ],
   "source": [
    "df.head()"
   ]
  },
  {
   "cell_type": "code",
   "execution_count": 23,
   "id": "41071e1a-dbe8-4cf4-8a3e-136acd814cc2",
   "metadata": {
    "tags": []
   },
   "outputs": [],
   "source": [
    "df = df.rename(columns={'filename': 'path'})"
   ]
  },
  {
   "cell_type": "markdown",
   "id": "91e03586-2f50-4e5a-957e-ebb4c936a30b",
   "metadata": {},
   "source": [
    "- Folds..csv contains images information that consist of magnitude, group (train, test), and path"
   ]
  },
  {
   "cell_type": "markdown",
   "id": "9a92e0f0-ee6c-4877-a975-671aae5129c5",
   "metadata": {},
   "source": [
    "before restructuring directory, we will add label to image file name for error analysis later"
   ]
  },
  {
   "cell_type": "markdown",
   "id": "6f4d5181-a963-438a-907f-19de07b2096c",
   "metadata": {},
   "source": [
    "- It seems that fold is like proportion of train and test. Each folds contains 7909 images. Fold 2 contains most training data than other folds. So, we will choose fold 2."
   ]
  },
  {
   "cell_type": "code",
   "execution_count": 24,
   "id": "ecf1c6a2-a6bb-4692-808b-20eb7cb9ee59",
   "metadata": {
    "tags": []
   },
   "outputs": [
    {
     "data": {
      "text/plain": [
       "(7909, 3)"
      ]
     },
     "execution_count": 24,
     "metadata": {},
     "output_type": "execute_result"
    }
   ],
   "source": [
    "df = (df[df['fold'] == 2].drop(columns='fold', axis=1)\n",
    "                         .reset_index(drop=True))\n",
    "\n",
    "df.shape"
   ]
  },
  {
   "cell_type": "code",
   "execution_count": 25,
   "id": "b857ca6f-63a6-4310-90c7-ff0b12caf718",
   "metadata": {
    "tags": []
   },
   "outputs": [
    {
     "data": {
      "text/html": [
       "<div>\n",
       "<style scoped>\n",
       "    .dataframe tbody tr th:only-of-type {\n",
       "        vertical-align: middle;\n",
       "    }\n",
       "\n",
       "    .dataframe tbody tr th {\n",
       "        vertical-align: top;\n",
       "    }\n",
       "\n",
       "    .dataframe thead th {\n",
       "        text-align: right;\n",
       "    }\n",
       "</style>\n",
       "<table border=\"1\" class=\"dataframe\">\n",
       "  <thead>\n",
       "    <tr style=\"text-align: right;\">\n",
       "      <th></th>\n",
       "      <th>mag</th>\n",
       "      <th>grp</th>\n",
       "      <th>path</th>\n",
       "      <th>type</th>\n",
       "      <th>filename</th>\n",
       "      <th>label</th>\n",
       "      <th>class</th>\n",
       "    </tr>\n",
       "  </thead>\n",
       "  <tbody>\n",
       "    <tr>\n",
       "      <th>0</th>\n",
       "      <td>100</td>\n",
       "      <td>train</td>\n",
       "      <td>breakhis/BreaKHis_v1/histology_slides/breast/b...</td>\n",
       "      <td>adenosis</td>\n",
       "      <td>benign_SOB_B_A-14-22549AB-100-001.png</td>\n",
       "      <td>benign</td>\n",
       "      <td>0</td>\n",
       "    </tr>\n",
       "    <tr>\n",
       "      <th>1</th>\n",
       "      <td>100</td>\n",
       "      <td>train</td>\n",
       "      <td>breakhis/BreaKHis_v1/histology_slides/breast/b...</td>\n",
       "      <td>adenosis</td>\n",
       "      <td>benign_SOB_B_A-14-22549AB-100-002.png</td>\n",
       "      <td>benign</td>\n",
       "      <td>0</td>\n",
       "    </tr>\n",
       "    <tr>\n",
       "      <th>2</th>\n",
       "      <td>100</td>\n",
       "      <td>train</td>\n",
       "      <td>breakhis/BreaKHis_v1/histology_slides/breast/b...</td>\n",
       "      <td>adenosis</td>\n",
       "      <td>benign_SOB_B_A-14-22549AB-100-003.png</td>\n",
       "      <td>benign</td>\n",
       "      <td>0</td>\n",
       "    </tr>\n",
       "    <tr>\n",
       "      <th>3</th>\n",
       "      <td>100</td>\n",
       "      <td>train</td>\n",
       "      <td>breakhis/BreaKHis_v1/histology_slides/breast/b...</td>\n",
       "      <td>adenosis</td>\n",
       "      <td>benign_SOB_B_A-14-22549AB-100-004.png</td>\n",
       "      <td>benign</td>\n",
       "      <td>0</td>\n",
       "    </tr>\n",
       "    <tr>\n",
       "      <th>4</th>\n",
       "      <td>100</td>\n",
       "      <td>train</td>\n",
       "      <td>breakhis/BreaKHis_v1/histology_slides/breast/b...</td>\n",
       "      <td>adenosis</td>\n",
       "      <td>benign_SOB_B_A-14-22549AB-100-005.png</td>\n",
       "      <td>benign</td>\n",
       "      <td>0</td>\n",
       "    </tr>\n",
       "  </tbody>\n",
       "</table>\n",
       "</div>"
      ],
      "text/plain": [
       "   mag    grp                                               path      type  \\\n",
       "0  100  train  breakhis/BreaKHis_v1/histology_slides/breast/b...  adenosis   \n",
       "1  100  train  breakhis/BreaKHis_v1/histology_slides/breast/b...  adenosis   \n",
       "2  100  train  breakhis/BreaKHis_v1/histology_slides/breast/b...  adenosis   \n",
       "3  100  train  breakhis/BreaKHis_v1/histology_slides/breast/b...  adenosis   \n",
       "4  100  train  breakhis/BreaKHis_v1/histology_slides/breast/b...  adenosis   \n",
       "\n",
       "                                filename   label  class  \n",
       "0  benign_SOB_B_A-14-22549AB-100-001.png  benign      0  \n",
       "1  benign_SOB_B_A-14-22549AB-100-002.png  benign      0  \n",
       "2  benign_SOB_B_A-14-22549AB-100-003.png  benign      0  \n",
       "3  benign_SOB_B_A-14-22549AB-100-004.png  benign      0  \n",
       "4  benign_SOB_B_A-14-22549AB-100-005.png  benign      0  "
      ]
     },
     "execution_count": 25,
     "metadata": {},
     "output_type": "execute_result"
    }
   ],
   "source": [
    "df['mag'] = df['mag'].astype('str')\n",
    "df['type'] = df['path'].apply(lambda x: x.split('/')[5])\n",
    "df['filename'] = df['path'].apply(lambda x: x.split('/')[-1])\n",
    "df['path'] = df['path'].apply(lambda x: os.path.join('breakhis', x))\n",
    "# df['label'] = df['path'].apply(lambda x: x.split('/')[4])\n",
    "df['label'] = df['path'].str.extract(\"(malignant|benign)\")\n",
    "df['filename'] = df['label'] + '_' + df['filename']\n",
    "df['class'] = df['label'].apply(lambda x: 1 if x == 'malignant' else 0)\n",
    "\n",
    "df.head()"
   ]
  },
  {
   "cell_type": "code",
   "execution_count": 26,
   "id": "4dbedb7e-3b39-493f-b025-20f97d3fa535",
   "metadata": {
    "tags": []
   },
   "outputs": [
    {
     "data": {
      "text/plain": [
       "'breakhis/BreaKHis_v1/histology_slides/breast/benign/SOB/adenosis/SOB_B_A_14-22549AB/100X/SOB_B_A-14-22549AB-100-001.png'"
      ]
     },
     "execution_count": 26,
     "metadata": {},
     "output_type": "execute_result"
    }
   ],
   "source": [
    "df['path'][0]"
   ]
  },
  {
   "cell_type": "code",
   "execution_count": 27,
   "id": "c4ee08ee-6011-420a-b7fe-bd9bf1c256e5",
   "metadata": {
    "tags": []
   },
   "outputs": [],
   "source": [
    "df1 = df[df['grp'] == 'train']\n",
    "test_df = df[df['grp'] == 'test']"
   ]
  },
  {
   "cell_type": "code",
   "execution_count": 28,
   "id": "a98f9b3d-d6ca-44c8-a208-90114b49775e",
   "metadata": {
    "tags": []
   },
   "outputs": [
    {
     "data": {
      "text/plain": [
       "((5506, 7), (2403, 7))"
      ]
     },
     "execution_count": 28,
     "metadata": {},
     "output_type": "execute_result"
    }
   ],
   "source": [
    "df1.shape, test_df.shape"
   ]
  },
  {
   "cell_type": "code",
   "execution_count": 29,
   "id": "7ed31b22-8453-4dce-ba2e-086b72618b0f",
   "metadata": {
    "tags": []
   },
   "outputs": [
    {
     "data": {
      "text/plain": [
       "[Text(0, 0, '1756'), Text(0, 0, '3750')]"
      ]
     },
     "execution_count": 29,
     "metadata": {},
     "output_type": "execute_result"
    },
    {
     "data": {
      "image/png": "[encoded data removed]",
      "text/plain": [
       "<Figure size 640x480 with 1 Axes>"
      ]
     },
     "metadata": {},
     "output_type": "display_data"
    }
   ],
   "source": [
    "# show malignant and benign size\n",
    "ax = sns.countplot(data=df1, x='label')\n",
    "ax.bar_label(ax.containers[0])"
   ]
  },
  {
   "cell_type": "markdown",
   "id": "17cb92ca-deb0-49fe-9ed1-734dade1e940",
   "metadata": {},
   "source": [
    "## Data Preprocessing"
   ]
  },
  {
   "cell_type": "markdown",
   "id": "4744dd10-a597-43a2-8fa9-ae9ebf6babc0",
   "metadata": {
    "tags": []
   },
   "source": [
    "### Define Helper Functions"
   ]
  },
  {
   "cell_type": "code",
   "execution_count": 30,
   "id": "bae83596-fb3e-4af9-87c5-807ed9d8a307",
   "metadata": {
    "tags": []
   },
   "outputs": [],
   "source": [
    "BATCH_SIZE = 28\n",
    "IMG_SIZE = 224\n",
    "IMAGE_SHAPE = (IMG_SIZE, IMG_SIZE, 3)"
   ]
  },
  {
   "cell_type": "code",
   "execution_count": 43,
   "id": "6b6e9f91-5a0f-4f8f-ab0e-9cb9d18cdd66",
   "metadata": {
    "tags": []
   },
   "outputs": [],
   "source": [
    "def load_process_image(file, label):\n",
    "    \"\"\"\n",
    "    Load and preprocess an image from the given file path.\n",
    "\n",
    "    Parameters:\n",
    "        file (str): The file path of the image to be loaded.\n",
    "        label: The label associated with the image.\n",
    "\n",
    "    Returns:\n",
    "        img (Tensor): Processed image as a TensorFlow tensor.\n",
    "        label: The unchanged label associated with the image.\n",
    "    \"\"\"\n",
    "    img = tf.io.read_file(file)\n",
    "    img = tf.image.decode_png(img, channels=3) # channels 3 = RGB\n",
    "    # img = tf.image.resize_with_pad(img, IMG_SIZE, IMG_SIZE)\n",
    "\n",
    "    return img, label\n",
    "\n",
    "\n",
    "def resize_rescale(image, label):\n",
    "    \"\"\"\n",
    "    Resize and rescale the input image while keeping its label unchanged.\n",
    "\n",
    "    Parameters:\n",
    "        image (Tensor): The input image as a TensorFlow tensor.\n",
    "        label: The label associated with the image.\n",
    "\n",
    "    Returns:\n",
    "        img (Tensor): Resized and rescaled image as a TensorFlow tensor.\n",
    "        label: The unchanged label associated with the image.\n",
    "    \"\"\"\n",
    "    img = tf.cast(image, tf.float32)\n",
    "    img = tf.image.resize_with_pad(img, IMG_SIZE, IMG_SIZE)\n",
    "    return img, label\n",
    "\n",
    "\n",
    "def view_image(ds, col=8, row=2, size=(25,7)):\n",
    "    \"\"\"\n",
    "    Visualize a random subset of images and their labels from a given dataset.\n",
    "\n",
    "    Parameters:\n",
    "        ds (tf.data.Dataset): The input dataset containing images and labels.\n",
    "        col (int): Number of columns in the visualization grid (default is 8).\n",
    "        row (int): Number of rows in the visualization grid (default is 2).\n",
    "        size (tuple): Figure size (width, height) for the visualization (default is (25, 7)).\n",
    "\n",
    "    Returns:\n",
    "        None\n",
    "    \"\"\"\n",
    "    plt.figure(figsize=size)\n",
    "    plt.subplots_adjust(wspace=0.05, hspace=0.15)\n",
    "    class_names = ['benign', 'malignant']\n",
    "    for images, labels in ds.take(1):\n",
    "        for i in range(col*row):\n",
    "            ax = plt.subplot(row, col, i + 1)\n",
    "            shape = str(images[i].numpy().shape)\n",
    "            plt.imshow(images[i].numpy())\n",
    "            plt.title(class_names[labels[i].numpy()])\n",
    "            plt.axis(\"off\") \n",
    "    plt.tight_layout\n",
    "    return None\n",
    "\n",
    "        \n",
    "def images_augmentation(img, IMG_SIZE):\n",
    "    \"\"\"\n",
    "    Apply a set of image augmentation transformations to enhance variability.\n",
    "    source: https://github.com/albumentations-team/albumentations\n",
    "\n",
    "    Parameters:\n",
    "        img (Tensor): Input image as a TensorFlow tensor.\n",
    "        IMG_SIZE (int): Desired size for the augmented image.\n",
    "\n",
    "    Returns:\n",
    "        aug_img (Tensor): Augmented and preprocessed image as a TensorFlow tensor.\n",
    "    \"\"\"\n",
    "    transforms = A.Compose([\n",
    "        A.Rotate(limit=20, p=0.3),\n",
    "        A.HorizontalFlip(),\n",
    "        A.VerticalFlip(),\n",
    "        A.RandomBrightnessContrast(\n",
    "            p=0.5,\n",
    "            brightness_limit=0.2, \n",
    "            contrast_limit=0.1,\n",
    "            brightness_by_max=True\n",
    "        ),\n",
    "        A.Blur(\n",
    "            p=0.3, \n",
    "            blur_limit=(1, 1)\n",
    "        ),\n",
    "    ])\n",
    "    \n",
    "    data = {'image': img}\n",
    "    aug_data = transforms(**data)\n",
    "    aug_img = aug_data[\"image\"]\n",
    "    aug_img = tf.cast(aug_img, tf.float32)\n",
    "    aug_img = tf.image.resize_with_pad(aug_img, IMG_SIZE, IMG_SIZE)\n",
    "    \n",
    "    return aug_img\n",
    "\n",
    "\n",
    "def process_augmentation(image, label, IMG_SIZE):\n",
    "    \"\"\"\n",
    "    Process an image and its label by applying augmentation and resizing\n",
    "    from images_augmentation function.\n",
    "\n",
    "    Parameters:\n",
    "        image (Tensor): Input image as a TensorFlow tensor.\n",
    "        label: The label associated with the image.\n",
    "        img_size (int): Desired size for the processed image.\n",
    "\n",
    "    Returns:\n",
    "        aug_img (Tensor): Processed and augmented image as a TensorFlow tensor.\n",
    "        label: The unchanged label associated with the image.\n",
    "    \"\"\"\n",
    "    aug_img = tf.numpy_function(func=images_augmentation, inp=[image, IMG_SIZE], Tout=tf.float32)\n",
    "    return aug_img, label\n",
    "\n",
    "\n",
    "def set_shapes(img, label, img_shape=IMAGE_SHAPE):\n",
    "    \"\"\"\n",
    "    The datasets loses its shape after applying a tf.numpy_function, so this is necessary\n",
    "    for the sequential model and when inheriting from the model class.\n",
    "    Parameters:\n",
    "        image (Tensor): Input image as a TensorFlow tensor.\n",
    "        label: The label associated with the image.\n",
    "        img_size (int): Desired size for the processed image.\n",
    "    Returns:\n",
    "        img (Tensor): Reshaped images after augmentation\n",
    "        label: The unchanged label associated with the image.\n",
    "    \"\"\"\n",
    "    img.set_shape(img_shape)\n",
    "    label.set_shape(())\n",
    "    return img, label"
   ]
  },
  {
   "cell_type": "code",
   "execution_count": 44,
   "id": "fd73f07e-ba1a-4b5f-84a6-d74025cb028b",
   "metadata": {
    "tags": []
   },
   "outputs": [
    {
     "name": "stdout",
     "output_type": "stream",
     "text": [
      "Train size: (4404, 7)\n",
      "Validation size: (1102, 7)\n",
      "Test size: (2403, 7)\n"
     ]
    }
   ],
   "source": [
    "# split data into train and validation\n",
    "train_df, val_df = train_test_split(df1, test_size=0.2, random_state=SEED)\n",
    "\n",
    "print(f\"Train size: {train_df.shape}\")\n",
    "print(f\"Validation size: {val_df.shape}\")\n",
    "print(f\"Test size: {test_df.shape}\")"
   ]
  },
  {
   "cell_type": "code",
   "execution_count": 45,
   "id": "77bb2026-3a1f-4c62-8793-450cc0fbe3a5",
   "metadata": {
    "tags": []
   },
   "outputs": [
    {
     "data": {
      "text/plain": [
       "Text(0.5, 1.0, 'Test data')"
      ]
     },
     "execution_count": 45,
     "metadata": {},
     "output_type": "execute_result"
    },
    {
     "data": {
      "image/png": "[encoded data removed]",
      "text/plain": [
       "<Figure size 1500x500 with 3 Axes>"
      ]
     },
     "metadata": {},
     "output_type": "display_data"
    }
   ],
   "source": [
    "# show size of each label in train, val, and test data\n",
    "fig, axs = plt.subplots(1,3, figsize=(15,5))\n",
    "sns.countplot(data=train_df, x='label', ax=axs[0])\n",
    "axs[0].set_title('Train data')\n",
    "\n",
    "sns.countplot(data=val_df, x='label', ax=axs[1])\n",
    "axs[1].set_title('Val data')\n",
    "\n",
    "sns.countplot(data=test_df, x='label', ax=axs[2])\n",
    "axs[2].set_title('Test data')"
   ]
  },
  {
   "cell_type": "code",
   "execution_count": 46,
   "id": "9b4bdc71-6270-4276-ba14-aff278ff1d43",
   "metadata": {
    "tags": []
   },
   "outputs": [
    {
     "data": {
      "text/plain": [
       "'\\nAUTOTUNE:  \\nit prefetches a certain number of batches from the dataset, \\nallowing the CPU to work on preprocessing the next batch while \\nthe GPU is still training on the current batch\\nhttps://www.tensorflow.org/guide/data_performance\\n'"
      ]
     },
     "execution_count": 46,
     "metadata": {},
     "output_type": "execute_result"
    }
   ],
   "source": [
    "# Creating a TensorFlow Dataset for training data\n",
    "train_loader = tf.data.Dataset.from_tensor_slices((train_df['path'], train_df['class']))\n",
    "# Creating a TensorFlow Dataset for validation data\n",
    "val_loader = tf.data.Dataset.from_tensor_slices((val_df['path'], val_df['class']))\n",
    "\n",
    "# Shuffling the test dataframe and creating a TensorFlow Dataset for test data\n",
    "test_df = test_df.sample(frac=1, random_state=SEED)\n",
    "test_loader = tf.data.Dataset.from_tensor_slices((test_df['path'], test_df['class']))\n",
    "\n",
    "# setting up the training, validation and test pipeline by applying helper functions \n",
    "train_ds = (\n",
    "    train_loader\n",
    "    .map(load_process_image, num_parallel_calls=AUTOTUNE)\n",
    "    .map(partial(process_augmentation, IMG_SIZE=IMG_SIZE), num_parallel_calls=AUTOTUNE) # applying image data augmentation\n",
    "    .map(set_shapes, num_parallel_calls=AUTOTUNE) \n",
    "    .shuffle(961)\n",
    "    .batch(BATCH_SIZE) # groups consecutive elements from the dataset into batches\n",
    "    .prefetch(AUTOTUNE) # overlaps the data preprocessing and model execution.\n",
    ")\n",
    "\n",
    "val_ds = (\n",
    "    val_loader\n",
    "    .map(load_process_image, num_parallel_calls=AUTOTUNE)\n",
    "    .map(resize_rescale, num_parallel_calls=AUTOTUNE)\n",
    "    .batch(BATCH_SIZE)\n",
    "    .prefetch(AUTOTUNE)\n",
    ")\n",
    "\n",
    "test_ds = (\n",
    "    test_loader\n",
    "    .map(load_process_image, num_parallel_calls=AUTOTUNE)\n",
    "    .map(resize_rescale, num_parallel_calls=AUTOTUNE)\n",
    "    .batch(BATCH_SIZE)\n",
    "    .prefetch(AUTOTUNE)\n",
    ")\n",
    "\n",
    "\"\"\"\n",
    "AUTOTUNE:  \n",
    "it prefetches a certain number of batches from the dataset, \n",
    "allowing the CPU to work on preprocessing the next batch while \n",
    "the GPU is still training on the current batch\n",
    "https://www.tensorflow.org/guide/data_performance\n",
    "\"\"\""
   ]
  },
  {
   "cell_type": "code",
   "execution_count": 47,
   "id": "78e299dc-1d85-49df-93f0-ff38b1454f14",
   "metadata": {
    "tags": []
   },
   "outputs": [
    {
     "data": {
      "text/plain": [
       "<_PrefetchDataset element_spec=(TensorSpec(shape=(None, 224, 224, 3), dtype=tf.float32, name=None), TensorSpec(shape=(None,), dtype=tf.int64, name=None))>"
      ]
     },
     "execution_count": 47,
     "metadata": {},
     "output_type": "execute_result"
    }
   ],
   "source": [
    "train_ds"
   ]
  },
  {
   "cell_type": "markdown",
   "id": "70cb608e-1f7e-42a1-8ce6-8acae90bba8a",
   "metadata": {},
   "source": [
    "# Transfer Learning"
   ]
  },
  {
   "cell_type": "code",
   "execution_count": 48,
   "id": "a62114e5-0b34-4c09-b4ca-6b191e856b65",
   "metadata": {
    "tags": []
   },
   "outputs": [],
   "source": [
    "from tensorflow.keras.applications.efficientnet_v2 import EfficientNetV2B1\n",
    "from tensorflow.keras import layers\n",
    "\n",
    "def build_model():\n",
    "    pretrained_model = EfficientNetV2B1(include_top=False,\n",
    "                                      input_shape=IMAGE_SHAPE,\n",
    "                                      weights='imagenet',\n",
    "                                      pooling='avg')\n",
    "    \n",
    "    # freeze pretrained weight\n",
    "    pretrained_model.trainable = False\n",
    "    \n",
    "    # rebuild top\n",
    "    inputs = layers.Input(shape=IMAGE_SHAPE)\n",
    "    # x = BatchNormalization()()\n",
    "    x = Flatten()(pretrained_model.output)\n",
    "    x = Dense(32, activation='relu')(x)\n",
    "\n",
    "    x = Dropout(0.3)(x)\n",
    "    outputs = Dense(1, activation='sigmoid')(x)\n",
    "\n",
    "    model = tf.keras.Model(pretrained_model.input, outputs, name='EfficientNet')\n",
    "    \n",
    "    # model = tf.keras.Sequential([\n",
    "    #     layers.Input(shape=IMAGE_SHAPE),\n",
    "    #     layers.RandomBrightness(0.2, seed=SEED),\n",
    "    #     layers.RandomFlip(seed=SEED),\n",
    "    #     layers.RandomRotation(0.2, seed=SEED),\n",
    "    #     pretrained_model,\n",
    "    #     BatchNormalization(),\n",
    "    #     Flatten(),\n",
    "    #     Dense(64, activation='relu'),\n",
    "    #     Dropout(0.3),\n",
    "    #     layers.Dense(1, activation=\"sigmoid\")\n",
    "    # ])\n",
    "    \n",
    "    lr_schedule = tf.keras.optimizers.schedules.InverseTimeDecay(\n",
    "        initial_learning_rate=0.001,\n",
    "        decay_steps=1200,\n",
    "        decay_rate=0.35,\n",
    "    )\n",
    "    \n",
    "    model.compile(\n",
    "        optimizer= tf.keras.optimizers.Adam(learning_rate=lr_schedule),\n",
    "        loss='binary_crossentropy',\n",
    "        metrics=[tf.keras.metrics.AUC(name=\"roc_auc\")]\n",
    "    )\n",
    "    \n",
    "    return model"
   ]
  },
  {
   "cell_type": "code",
   "execution_count": 49,
   "id": "de5396c2-ee72-4ae3-9e22-ec9756e3a3f6",
   "metadata": {
    "tags": []
   },
   "outputs": [],
   "source": [
    "callbacks = [\n",
    "    EarlyStopping(\n",
    "        restore_best_weights=True,\n",
    "        min_delta=1e-4,\n",
    "        patience=3,\n",
    "        verbose=1\n",
    "    ),\n",
    "    ModelCheckpoint(\n",
    "        filepath='transfer_learning_model.h5',\n",
    "        save_best_only=True,\n",
    "        verbose=1\n",
    "    )\n",
    "]"
   ]
  },
  {
   "cell_type": "code",
   "execution_count": 51,
   "id": "164a6330-70b9-46a4-967e-29cb5d48a238",
   "metadata": {
    "tags": []
   },
   "outputs": [
    {
     "name": "stdout",
     "output_type": "stream",
     "text": [
      "Epoch 1/30\n"
     ]
    },
    {
     "name": "stderr",
     "output_type": "stream",
     "text": [
      "2023-08-21 17:21:27.818981: I tensorflow/core/kernels/data/shuffle_dataset_op.cc:422] Filling up shuffle buffer (this may take a while): 570 of 961\n",
      "2023-08-21 17:21:34.878303: I tensorflow/core/kernels/data/shuffle_dataset_op.cc:450] Shuffle buffer filled.\n"
     ]
    },
    {
     "name": "stdout",
     "output_type": "stream",
     "text": [
      "157/158 [============================>.] - ETA: 0s - loss: 0.4200 - roc_auc: 0.8605\n",
      "Epoch 1: val_loss improved from inf to 0.28477, saving model to custom_model3.h5\n"
     ]
    },
    {
     "name": "stderr",
     "output_type": "stream",
     "text": [
      "/home/anggapark/miniconda3/envs/tf/lib/python3.9/site-packages/keras/src/engine/training.py:3000: UserWarning: You are saving your model as an HDF5 file via `model.save()`. This file format is considered legacy. We recommend using instead the native Keras format, e.g. `model.save('my_model.keras')`.\n",
      "  saving_api.save_model(\n"
     ]
    },
    {
     "name": "stdout",
     "output_type": "stream",
     "text": [
      "158/158 [==============================] - 88s 416ms/step - loss: 0.4197 - roc_auc: 0.8606 - val_loss: 0.2848 - val_roc_auc: 0.9490\n",
      "Epoch 2/30\n"
     ]
    },
    {
     "name": "stderr",
     "output_type": "stream",
     "text": [
      "2023-08-21 17:22:51.495007: I tensorflow/core/kernels/data/shuffle_dataset_op.cc:422] Filling up shuffle buffer (this may take a while): 600 of 961\n",
      "2023-08-21 17:22:57.972146: I tensorflow/core/kernels/data/shuffle_dataset_op.cc:450] Shuffle buffer filled.\n"
     ]
    },
    {
     "name": "stdout",
     "output_type": "stream",
     "text": [
      "157/158 [============================>.] - ETA: 0s - loss: 0.3130 - roc_auc: 0.9254\n",
      "Epoch 2: val_loss improved from 0.28477 to 0.24441, saving model to custom_model3.h5\n",
      "158/158 [==============================] - 80s 398ms/step - loss: 0.3129 - roc_auc: 0.9254 - val_loss: 0.2444 - val_roc_auc: 0.9593\n",
      "Epoch 3/30\n"
     ]
    },
    {
     "name": "stderr",
     "output_type": "stream",
     "text": [
      "2023-08-21 17:24:11.273604: I tensorflow/core/kernels/data/shuffle_dataset_op.cc:422] Filling up shuffle buffer (this may take a while): 670 of 961\n",
      "2023-08-21 17:24:16.247194: I tensorflow/core/kernels/data/shuffle_dataset_op.cc:450] Shuffle buffer filled.\n"
     ]
    },
    {
     "name": "stdout",
     "output_type": "stream",
     "text": [
      "157/158 [============================>.] - ETA: 0s - loss: 0.2857 - roc_auc: 0.9380\n",
      "Epoch 3: val_loss improved from 0.24441 to 0.22403, saving model to custom_model3.h5\n",
      "158/158 [==============================] - 77s 389ms/step - loss: 0.2853 - roc_auc: 0.9383 - val_loss: 0.2240 - val_roc_auc: 0.9680\n",
      "Epoch 4/30\n"
     ]
    },
    {
     "name": "stderr",
     "output_type": "stream",
     "text": [
      "2023-08-21 17:25:28.168352: I tensorflow/core/kernels/data/shuffle_dataset_op.cc:422] Filling up shuffle buffer (this may take a while): 709 of 961\n",
      "2023-08-21 17:25:32.349788: I tensorflow/core/kernels/data/shuffle_dataset_op.cc:450] Shuffle buffer filled.\n"
     ]
    },
    {
     "name": "stdout",
     "output_type": "stream",
     "text": [
      "157/158 [============================>.] - ETA: 0s - loss: 0.2520 - roc_auc: 0.9522\n",
      "Epoch 4: val_loss did not improve from 0.22403\n",
      "158/158 [==============================] - 77s 393ms/step - loss: 0.2520 - roc_auc: 0.9522 - val_loss: 0.2431 - val_roc_auc: 0.9712\n",
      "Epoch 5/30\n"
     ]
    },
    {
     "name": "stderr",
     "output_type": "stream",
     "text": [
      "2023-08-21 17:26:44.964940: I tensorflow/core/kernels/data/shuffle_dataset_op.cc:422] Filling up shuffle buffer (this may take a while): 653 of 961\n",
      "2023-08-21 17:26:50.405846: I tensorflow/core/kernels/data/shuffle_dataset_op.cc:450] Shuffle buffer filled.\n"
     ]
    },
    {
     "name": "stdout",
     "output_type": "stream",
     "text": [
      "157/158 [============================>.] - ETA: 0s - loss: 0.2475 - roc_auc: 0.9548\n",
      "Epoch 5: val_loss improved from 0.22403 to 0.20158, saving model to custom_model3.h5\n",
      "158/158 [==============================] - 80s 403ms/step - loss: 0.2471 - roc_auc: 0.9549 - val_loss: 0.2016 - val_roc_auc: 0.9748\n",
      "Epoch 6/30\n"
     ]
    },
    {
     "name": "stderr",
     "output_type": "stream",
     "text": [
      "2023-08-21 17:28:06.904675: I tensorflow/core/kernels/data/shuffle_dataset_op.cc:422] Filling up shuffle buffer (this may take a while): 594 of 961\n",
      "2023-08-21 17:28:13.504559: I tensorflow/core/kernels/data/shuffle_dataset_op.cc:450] Shuffle buffer filled.\n"
     ]
    },
    {
     "name": "stdout",
     "output_type": "stream",
     "text": [
      "157/158 [============================>.] - ETA: 0s - loss: 0.2244 - roc_auc: 0.9612\n",
      "Epoch 6: val_loss improved from 0.20158 to 0.18188, saving model to custom_model3.h5\n",
      "158/158 [==============================] - 79s 393ms/step - loss: 0.2241 - roc_auc: 0.9612 - val_loss: 0.1819 - val_roc_auc: 0.9771\n",
      "Epoch 7/30\n"
     ]
    },
    {
     "name": "stderr",
     "output_type": "stream",
     "text": [
      "2023-08-21 17:29:28.851574: I tensorflow/core/kernels/data/shuffle_dataset_op.cc:422] Filling up shuffle buffer (this may take a while): 683 of 961\n",
      "2023-08-21 17:29:33.456447: I tensorflow/core/kernels/data/shuffle_dataset_op.cc:450] Shuffle buffer filled.\n"
     ]
    },
    {
     "name": "stdout",
     "output_type": "stream",
     "text": [
      "157/158 [============================>.] - ETA: 0s - loss: 0.2151 - roc_auc: 0.9661\n",
      "Epoch 7: val_loss improved from 0.18188 to 0.17737, saving model to custom_model3.h5\n",
      "158/158 [==============================] - 77s 395ms/step - loss: 0.2148 - roc_auc: 0.9662 - val_loss: 0.1774 - val_roc_auc: 0.9776\n",
      "Epoch 8/30\n"
     ]
    },
    {
     "name": "stderr",
     "output_type": "stream",
     "text": [
      "2023-08-21 17:30:46.262506: I tensorflow/core/kernels/data/shuffle_dataset_op.cc:422] Filling up shuffle buffer (this may take a while): 630 of 961\n",
      "2023-08-21 17:30:51.963219: I tensorflow/core/kernels/data/shuffle_dataset_op.cc:450] Shuffle buffer filled.\n"
     ]
    },
    {
     "name": "stdout",
     "output_type": "stream",
     "text": [
      "157/158 [============================>.] - ETA: 0s - loss: 0.2071 - roc_auc: 0.9687\n",
      "Epoch 8: val_loss improved from 0.17737 to 0.17161, saving model to custom_model3.h5\n",
      "158/158 [==============================] - 79s 396ms/step - loss: 0.2077 - roc_auc: 0.9685 - val_loss: 0.1716 - val_roc_auc: 0.9789\n",
      "Epoch 9/30\n"
     ]
    },
    {
     "name": "stderr",
     "output_type": "stream",
     "text": [
      "2023-08-21 17:32:05.009464: I tensorflow/core/kernels/data/shuffle_dataset_op.cc:422] Filling up shuffle buffer (this may take a while): 683 of 961\n",
      "2023-08-21 17:32:09.585539: I tensorflow/core/kernels/data/shuffle_dataset_op.cc:450] Shuffle buffer filled.\n"
     ]
    },
    {
     "name": "stdout",
     "output_type": "stream",
     "text": [
      "157/158 [============================>.] - ETA: 0s - loss: 0.2036 - roc_auc: 0.9690\n",
      "Epoch 9: val_loss improved from 0.17161 to 0.16584, saving model to custom_model3.h5\n",
      "158/158 [==============================] - 76s 385ms/step - loss: 0.2033 - roc_auc: 0.9691 - val_loss: 0.1658 - val_roc_auc: 0.9808\n",
      "Epoch 10/30\n"
     ]
    },
    {
     "name": "stderr",
     "output_type": "stream",
     "text": [
      "2023-08-21 17:33:20.812512: I tensorflow/core/kernels/data/shuffle_dataset_op.cc:422] Filling up shuffle buffer (this may take a while): 702 of 961\n",
      "2023-08-21 17:33:24.945423: I tensorflow/core/kernels/data/shuffle_dataset_op.cc:450] Shuffle buffer filled.\n"
     ]
    },
    {
     "name": "stdout",
     "output_type": "stream",
     "text": [
      "157/158 [============================>.] - ETA: 0s - loss: 0.1808 - roc_auc: 0.9763\n",
      "Epoch 10: val_loss improved from 0.16584 to 0.16219, saving model to custom_model3.h5\n",
      "158/158 [==============================] - 76s 391ms/step - loss: 0.1816 - roc_auc: 0.9761 - val_loss: 0.1622 - val_roc_auc: 0.9822\n",
      "Epoch 11/30\n"
     ]
    },
    {
     "name": "stderr",
     "output_type": "stream",
     "text": [
      "2023-08-21 17:34:37.259516: I tensorflow/core/kernels/data/shuffle_dataset_op.cc:422] Filling up shuffle buffer (this may take a while): 699 of 961\n",
      "2023-08-21 17:34:41.846157: I tensorflow/core/kernels/data/shuffle_dataset_op.cc:450] Shuffle buffer filled.\n"
     ]
    },
    {
     "name": "stdout",
     "output_type": "stream",
     "text": [
      "157/158 [============================>.] - ETA: 0s - loss: 0.1966 - roc_auc: 0.9718\n",
      "Epoch 11: val_loss improved from 0.16219 to 0.15498, saving model to custom_model3.h5\n",
      "158/158 [==============================] - 78s 400ms/step - loss: 0.1967 - roc_auc: 0.9719 - val_loss: 0.1550 - val_roc_auc: 0.9827\n",
      "Epoch 12/30\n"
     ]
    },
    {
     "name": "stderr",
     "output_type": "stream",
     "text": [
      "2023-08-21 17:35:55.533139: I tensorflow/core/kernels/data/shuffle_dataset_op.cc:422] Filling up shuffle buffer (this may take a while): 642 of 961\n",
      "2023-08-21 17:36:01.105278: I tensorflow/core/kernels/data/shuffle_dataset_op.cc:450] Shuffle buffer filled.\n"
     ]
    },
    {
     "name": "stdout",
     "output_type": "stream",
     "text": [
      "157/158 [============================>.] - ETA: 0s - loss: 0.1829 - roc_auc: 0.9754\n",
      "Epoch 12: val_loss did not improve from 0.15498\n",
      "158/158 [==============================] - 79s 397ms/step - loss: 0.1829 - roc_auc: 0.9754 - val_loss: 0.1620 - val_roc_auc: 0.9839\n",
      "Epoch 13/30\n"
     ]
    },
    {
     "name": "stderr",
     "output_type": "stream",
     "text": [
      "2023-08-21 17:37:14.281835: I tensorflow/core/kernels/data/shuffle_dataset_op.cc:422] Filling up shuffle buffer (this may take a while): 611 of 961\n",
      "2023-08-21 17:37:20.215346: I tensorflow/core/kernels/data/shuffle_dataset_op.cc:450] Shuffle buffer filled.\n"
     ]
    },
    {
     "name": "stdout",
     "output_type": "stream",
     "text": [
      "157/158 [============================>.] - ETA: 0s - loss: 0.1777 - roc_auc: 0.9768\n",
      "Epoch 13: val_loss improved from 0.15498 to 0.15495, saving model to custom_model3.h5\n",
      "158/158 [==============================] - 79s 398ms/step - loss: 0.1783 - roc_auc: 0.9766 - val_loss: 0.1550 - val_roc_auc: 0.9848\n",
      "Epoch 14/30\n"
     ]
    },
    {
     "name": "stderr",
     "output_type": "stream",
     "text": [
      "2023-08-21 17:38:33.514882: I tensorflow/core/kernels/data/shuffle_dataset_op.cc:422] Filling up shuffle buffer (this may take a while): 661 of 961\n",
      "2023-08-21 17:38:38.828504: I tensorflow/core/kernels/data/shuffle_dataset_op.cc:450] Shuffle buffer filled.\n"
     ]
    },
    {
     "name": "stdout",
     "output_type": "stream",
     "text": [
      "157/158 [============================>.] - ETA: 0s - loss: 0.1797 - roc_auc: 0.9762\n",
      "Epoch 14: val_loss improved from 0.15495 to 0.14899, saving model to custom_model3.h5\n",
      "158/158 [==============================] - 78s 393ms/step - loss: 0.1797 - roc_auc: 0.9762 - val_loss: 0.1490 - val_roc_auc: 0.9848\n",
      "Epoch 15/30\n"
     ]
    },
    {
     "name": "stderr",
     "output_type": "stream",
     "text": [
      "2023-08-21 17:39:51.364829: I tensorflow/core/kernels/data/shuffle_dataset_op.cc:422] Filling up shuffle buffer (this may take a while): 621 of 961\n",
      "2023-08-21 17:39:57.749987: I tensorflow/core/kernels/data/shuffle_dataset_op.cc:450] Shuffle buffer filled.\n"
     ]
    },
    {
     "name": "stdout",
     "output_type": "stream",
     "text": [
      "157/158 [============================>.] - ETA: 0s - loss: 0.1604 - roc_auc: 0.9822\n",
      "Epoch 15: val_loss improved from 0.14899 to 0.14453, saving model to custom_model3.h5\n",
      "158/158 [==============================] - 80s 397ms/step - loss: 0.1609 - roc_auc: 0.9820 - val_loss: 0.1445 - val_roc_auc: 0.9852\n",
      "Epoch 16/30\n"
     ]
    },
    {
     "name": "stderr",
     "output_type": "stream",
     "text": [
      "2023-08-21 17:41:13.435509: I tensorflow/core/kernels/data/shuffle_dataset_op.cc:422] Filling up shuffle buffer (this may take a while): 654 of 961\n",
      "2023-08-21 17:41:18.501578: I tensorflow/core/kernels/data/shuffle_dataset_op.cc:450] Shuffle buffer filled.\n"
     ]
    },
    {
     "name": "stdout",
     "output_type": "stream",
     "text": [
      "157/158 [============================>.] - ETA: 0s - loss: 0.1600 - roc_auc: 0.9815\n",
      "Epoch 16: val_loss did not improve from 0.14453\n",
      "158/158 [==============================] - 74s 373ms/step - loss: 0.1600 - roc_auc: 0.9815 - val_loss: 0.1480 - val_roc_auc: 0.9854\n",
      "Epoch 17/30\n"
     ]
    },
    {
     "name": "stderr",
     "output_type": "stream",
     "text": [
      "2023-08-21 17:42:35.966028: I tensorflow/core/kernels/data/shuffle_dataset_op.cc:422] Filling up shuffle buffer (this may take a while): 612 of 961\n",
      "2023-08-21 17:42:41.644152: I tensorflow/core/kernels/data/shuffle_dataset_op.cc:450] Shuffle buffer filled.\n"
     ]
    },
    {
     "name": "stdout",
     "output_type": "stream",
     "text": [
      "157/158 [============================>.] - ETA: 0s - loss: 0.1734 - roc_auc: 0.9783\n",
      "Epoch 17: val_loss improved from 0.14453 to 0.13685, saving model to custom_model3.h5\n",
      "158/158 [==============================] - 77s 386ms/step - loss: 0.1733 - roc_auc: 0.9783 - val_loss: 0.1368 - val_roc_auc: 0.9870\n",
      "Epoch 18/30\n"
     ]
    },
    {
     "name": "stderr",
     "output_type": "stream",
     "text": [
      "2023-08-21 17:43:53.127727: I tensorflow/core/kernels/data/shuffle_dataset_op.cc:422] Filling up shuffle buffer (this may take a while): 645 of 961\n",
      "2023-08-21 17:43:58.510536: I tensorflow/core/kernels/data/shuffle_dataset_op.cc:450] Shuffle buffer filled.\n"
     ]
    },
    {
     "name": "stdout",
     "output_type": "stream",
     "text": [
      "157/158 [============================>.] - ETA: 0s - loss: 0.1646 - roc_auc: 0.9804\n",
      "Epoch 18: val_loss improved from 0.13685 to 0.13598, saving model to custom_model3.h5\n",
      "158/158 [==============================] - 79s 398ms/step - loss: 0.1644 - roc_auc: 0.9804 - val_loss: 0.1360 - val_roc_auc: 0.9878\n",
      "Epoch 19/30\n"
     ]
    },
    {
     "name": "stderr",
     "output_type": "stream",
     "text": [
      "2023-08-21 17:45:11.802758: I tensorflow/core/kernels/data/shuffle_dataset_op.cc:422] Filling up shuffle buffer (this may take a while): 658 of 961\n",
      "2023-08-21 17:45:17.142726: I tensorflow/core/kernels/data/shuffle_dataset_op.cc:450] Shuffle buffer filled.\n"
     ]
    },
    {
     "name": "stdout",
     "output_type": "stream",
     "text": [
      "157/158 [============================>.] - ETA: 0s - loss: 0.1503 - roc_auc: 0.9833\n",
      "Epoch 19: val_loss improved from 0.13598 to 0.13519, saving model to custom_model3.h5\n",
      "158/158 [==============================] - 79s 398ms/step - loss: 0.1503 - roc_auc: 0.9833 - val_loss: 0.1352 - val_roc_auc: 0.9878\n",
      "Epoch 20/30\n"
     ]
    },
    {
     "name": "stderr",
     "output_type": "stream",
     "text": [
      "2023-08-21 17:46:30.424331: I tensorflow/core/kernels/data/shuffle_dataset_op.cc:422] Filling up shuffle buffer (this may take a while): 626 of 961\n",
      "2023-08-21 17:46:36.463351: I tensorflow/core/kernels/data/shuffle_dataset_op.cc:450] Shuffle buffer filled.\n"
     ]
    },
    {
     "name": "stdout",
     "output_type": "stream",
     "text": [
      "157/158 [============================>.] - ETA: 0s - loss: 0.1500 - roc_auc: 0.9838\n",
      "Epoch 20: val_loss improved from 0.13519 to 0.13142, saving model to custom_model3.h5\n",
      "158/158 [==============================] - 78s 392ms/step - loss: 0.1501 - roc_auc: 0.9838 - val_loss: 0.1314 - val_roc_auc: 0.9877\n",
      "Epoch 21/30\n"
     ]
    },
    {
     "name": "stderr",
     "output_type": "stream",
     "text": [
      "2023-08-21 17:47:48.829411: I tensorflow/core/kernels/data/shuffle_dataset_op.cc:422] Filling up shuffle buffer (this may take a while): 647 of 961\n",
      "2023-08-21 17:47:54.263048: I tensorflow/core/kernels/data/shuffle_dataset_op.cc:450] Shuffle buffer filled.\n"
     ]
    },
    {
     "name": "stdout",
     "output_type": "stream",
     "text": [
      "157/158 [============================>.] - ETA: 0s - loss: 0.1524 - roc_auc: 0.9835\n",
      "Epoch 21: val_loss did not improve from 0.13142\n",
      "158/158 [==============================] - 79s 398ms/step - loss: 0.1524 - roc_auc: 0.9835 - val_loss: 0.1419 - val_roc_auc: 0.9867\n",
      "Epoch 22/30\n"
     ]
    },
    {
     "name": "stderr",
     "output_type": "stream",
     "text": [
      "2023-08-21 17:49:07.541055: I tensorflow/core/kernels/data/shuffle_dataset_op.cc:422] Filling up shuffle buffer (this may take a while): 707 of 961\n",
      "2023-08-21 17:49:11.776018: I tensorflow/core/kernels/data/shuffle_dataset_op.cc:450] Shuffle buffer filled.\n"
     ]
    },
    {
     "name": "stdout",
     "output_type": "stream",
     "text": [
      "157/158 [============================>.] - ETA: 0s - loss: 0.1485 - roc_auc: 0.9843\n",
      "Epoch 22: val_loss did not improve from 0.13142\n",
      "158/158 [==============================] - 75s 385ms/step - loss: 0.1484 - roc_auc: 0.9843 - val_loss: 0.1330 - val_roc_auc: 0.9884\n",
      "Epoch 23/30\n"
     ]
    },
    {
     "name": "stderr",
     "output_type": "stream",
     "text": [
      "2023-08-21 17:50:23.002768: I tensorflow/core/kernels/data/shuffle_dataset_op.cc:422] Filling up shuffle buffer (this may take a while): 686 of 961\n",
      "2023-08-21 17:50:27.415919: I tensorflow/core/kernels/data/shuffle_dataset_op.cc:450] Shuffle buffer filled.\n"
     ]
    },
    {
     "name": "stdout",
     "output_type": "stream",
     "text": [
      "157/158 [============================>.] - ETA: 0s - loss: 0.1426 - roc_auc: 0.9851\n",
      "Epoch 23: val_loss improved from 0.13142 to 0.13020, saving model to custom_model3.h5\n",
      "158/158 [==============================] - 75s 379ms/step - loss: 0.1426 - roc_auc: 0.9851 - val_loss: 0.1302 - val_roc_auc: 0.9884\n",
      "Epoch 24/30\n"
     ]
    },
    {
     "name": "stderr",
     "output_type": "stream",
     "text": [
      "2023-08-21 17:51:37.703677: I tensorflow/core/kernels/data/shuffle_dataset_op.cc:422] Filling up shuffle buffer (this may take a while): 660 of 961\n",
      "2023-08-21 17:51:42.933197: I tensorflow/core/kernels/data/shuffle_dataset_op.cc:450] Shuffle buffer filled.\n"
     ]
    },
    {
     "name": "stdout",
     "output_type": "stream",
     "text": [
      "157/158 [============================>.] - ETA: 0s - loss: 0.1424 - roc_auc: 0.9856\n",
      "Epoch 24: val_loss improved from 0.13020 to 0.12878, saving model to custom_model3.h5\n",
      "158/158 [==============================] - 78s 395ms/step - loss: 0.1422 - roc_auc: 0.9856 - val_loss: 0.1288 - val_roc_auc: 0.9887\n",
      "Epoch 25/30\n"
     ]
    },
    {
     "name": "stderr",
     "output_type": "stream",
     "text": [
      "2023-08-21 17:52:55.682204: I tensorflow/core/kernels/data/shuffle_dataset_op.cc:422] Filling up shuffle buffer (this may take a while): 603 of 961\n",
      "2023-08-21 17:53:01.975714: I tensorflow/core/kernels/data/shuffle_dataset_op.cc:450] Shuffle buffer filled.\n"
     ]
    },
    {
     "name": "stdout",
     "output_type": "stream",
     "text": [
      "157/158 [============================>.] - ETA: 0s - loss: 0.1475 - roc_auc: 0.9843\n",
      "Epoch 25: val_loss improved from 0.12878 to 0.12452, saving model to custom_model3.h5\n",
      "158/158 [==============================] - 78s 389ms/step - loss: 0.1473 - roc_auc: 0.9844 - val_loss: 0.1245 - val_roc_auc: 0.9894\n",
      "Epoch 26/30\n"
     ]
    },
    {
     "name": "stderr",
     "output_type": "stream",
     "text": [
      "2023-08-21 17:54:13.921884: I tensorflow/core/kernels/data/shuffle_dataset_op.cc:422] Filling up shuffle buffer (this may take a while): 700 of 961\n",
      "2023-08-21 17:54:18.218565: I tensorflow/core/kernels/data/shuffle_dataset_op.cc:450] Shuffle buffer filled.\n"
     ]
    },
    {
     "name": "stdout",
     "output_type": "stream",
     "text": [
      "157/158 [============================>.] - ETA: 0s - loss: 0.1276 - roc_auc: 0.9890\n",
      "Epoch 26: val_loss improved from 0.12452 to 0.12375, saving model to custom_model3.h5\n",
      "158/158 [==============================] - 75s 379ms/step - loss: 0.1281 - roc_auc: 0.9888 - val_loss: 0.1238 - val_roc_auc: 0.9894\n",
      "Epoch 27/30\n"
     ]
    },
    {
     "name": "stderr",
     "output_type": "stream",
     "text": [
      "2023-08-21 17:55:28.599958: I tensorflow/core/kernels/data/shuffle_dataset_op.cc:422] Filling up shuffle buffer (this may take a while): 721 of 961\n",
      "2023-08-21 17:55:32.471998: I tensorflow/core/kernels/data/shuffle_dataset_op.cc:450] Shuffle buffer filled.\n"
     ]
    },
    {
     "name": "stdout",
     "output_type": "stream",
     "text": [
      "157/158 [============================>.] - ETA: 0s - loss: 0.1378 - roc_auc: 0.9859\n",
      "Epoch 27: val_loss improved from 0.12375 to 0.12272, saving model to custom_model3.h5\n",
      "158/158 [==============================] - 75s 387ms/step - loss: 0.1376 - roc_auc: 0.9859 - val_loss: 0.1227 - val_roc_auc: 0.9898\n",
      "Epoch 28/30\n"
     ]
    },
    {
     "name": "stderr",
     "output_type": "stream",
     "text": [
      "2023-08-21 17:56:44.060884: I tensorflow/core/kernels/data/shuffle_dataset_op.cc:422] Filling up shuffle buffer (this may take a while): 690 of 961\n",
      "2023-08-21 17:56:48.701088: I tensorflow/core/kernels/data/shuffle_dataset_op.cc:450] Shuffle buffer filled.\n"
     ]
    },
    {
     "name": "stdout",
     "output_type": "stream",
     "text": [
      "157/158 [============================>.] - ETA: 0s - loss: 0.1363 - roc_auc: 0.9859\n",
      "Epoch 28: val_loss did not improve from 0.12272\n",
      "158/158 [==============================] - 77s 393ms/step - loss: 0.1363 - roc_auc: 0.9859 - val_loss: 0.1235 - val_roc_auc: 0.9896\n",
      "Epoch 29/30\n"
     ]
    },
    {
     "name": "stderr",
     "output_type": "stream",
     "text": [
      "2023-08-21 17:58:01.228359: I tensorflow/core/kernels/data/shuffle_dataset_op.cc:422] Filling up shuffle buffer (this may take a while): 665 of 961\n",
      "2023-08-21 17:58:06.153480: I tensorflow/core/kernels/data/shuffle_dataset_op.cc:450] Shuffle buffer filled.\n"
     ]
    },
    {
     "name": "stdout",
     "output_type": "stream",
     "text": [
      "157/158 [============================>.] - ETA: 0s - loss: 0.1305 - roc_auc: 0.9878\n",
      "Epoch 29: val_loss did not improve from 0.12272\n",
      "158/158 [==============================] - 76s 383ms/step - loss: 0.1303 - roc_auc: 0.9878 - val_loss: 0.1245 - val_roc_auc: 0.9903\n",
      "Epoch 30/30\n"
     ]
    },
    {
     "name": "stderr",
     "output_type": "stream",
     "text": [
      "2023-08-21 17:59:17.010335: I tensorflow/core/kernels/data/shuffle_dataset_op.cc:422] Filling up shuffle buffer (this may take a while): 728 of 961\n",
      "2023-08-21 17:59:20.722425: I tensorflow/core/kernels/data/shuffle_dataset_op.cc:450] Shuffle buffer filled.\n"
     ]
    },
    {
     "name": "stdout",
     "output_type": "stream",
     "text": [
      "157/158 [============================>.] - ETA: 0s - loss: 0.1312 - roc_auc: 0.9879\n",
      "Epoch 30: val_loss improved from 0.12272 to 0.11791, saving model to custom_model3.h5\n",
      "158/158 [==============================] - 74s 381ms/step - loss: 0.1319 - roc_auc: 0.9877 - val_loss: 0.1179 - val_roc_auc: 0.9901\n"
     ]
    }
   ],
   "source": [
    "model = build_model()\n",
    "\n",
    "history = model.fit(\n",
    "    train_ds,\n",
    "    epochs=30,\n",
    "    verbose=1,\n",
    "    validation_data=val_ds,\n",
    "    callbacks=[callbacks]\n",
    ")"
   ]
  },
  {
   "cell_type": "code",
   "execution_count": 1,
   "id": "bb8a22f2-c1e3-4f99-86cb-44c19a0d01e3",
   "metadata": {
    "tags": []
   },
   "outputs": [],
   "source": [
    "# model.summary()"
   ]
  },
  {
   "cell_type": "code",
   "execution_count": 26,
   "id": "c7237026-d2be-4e21-903c-707fd0d44856",
   "metadata": {
    "tags": []
   },
   "outputs": [],
   "source": [
    "# def unfreeze_model(model):\n",
    "#     # We unfreeze the top 20 layers while leaving BatchNorm layers frozen\n",
    "#     for layer in model.layers[-20:]:\n",
    "#         if not isinstance(layer, layers.BatchNormalization):\n",
    "#             layer.trainable = True\n",
    "    \n",
    "#     lr_schedule = tf.keras.optimizers.schedules.InverseTimeDecay(\n",
    "#         initial_learning_rate=0.001,\n",
    "#         decay_steps=1200,\n",
    "#         decay_rate=0.5,\n",
    "#     )\n",
    "    \n",
    "#     optimizer = tf.keras.optimizers.Adam(learning_rate=lr_schedule)\n",
    "#     model.compile(\n",
    "#         optimizer=optimizer, loss=\"binary_crossentropy\", metrics=[tf.keras.metrics.AUC(name=\"roc_auc\")]\n",
    "#     )\n",
    "    \n",
    "# unfreeze_model(model)\n",
    "\n",
    "# history = model.fit(\n",
    "#     train_ds,\n",
    "#     epochs=30,\n",
    "#     verbose=1,\n",
    "#     validation_data=val_ds,\n",
    "#     callbacks=[callbacks]\n",
    "# )"
   ]
  },
  {
   "cell_type": "markdown",
   "id": "1e03369c-8c04-4cdb-a36f-6f33521e6f7f",
   "metadata": {},
   "source": [
    "# Model Result"
   ]
  },
  {
   "cell_type": "code",
   "execution_count": 52,
   "id": "e09fe8c8-9e42-4f5b-bbf1-80bf9761f401",
   "metadata": {
    "tags": []
   },
   "outputs": [
    {
     "data": {
      "image/png": "[encoded data removed]",
      "text/plain": [
       "<Figure size 1600x600 with 2 Axes>"
      ]
     },
     "metadata": {},
     "output_type": "display_data"
    }
   ],
   "source": [
    "# Genning the roc auc\n",
    "roc_auc = history.history['roc_auc']\n",
    "val_roc_auc = history.history['val_roc_auc']\n",
    "\n",
    "# Getting the losses\n",
    "loss = history.history['loss']\n",
    "val_loss = history.history['val_loss']\n",
    "\n",
    "# No. of epochs it trained\n",
    "epochs_range = history.epoch\n",
    "\n",
    "# Plotting Training and Validation accuracy\n",
    "fig, ax = plt.subplots(1, 2, figsize=(16, 6))\n",
    "\n",
    "# Plotting Training and Validation Loss\n",
    "ax[0].plot(epochs_range, loss, label='Training Loss')\n",
    "ax[0].plot(epochs_range, val_loss, label='Validation Loss')\n",
    "ax[0].legend(loc='upper right')\n",
    "ax[0].set_title('Training and Validation Loss')\n",
    "\n",
    "# Plotting Training and Validation ROC AUC\n",
    "ax[1].plot(epochs_range, roc_auc, label='Training ROC-AUC')\n",
    "ax[1].plot(epochs_range, val_roc_auc, label='Validation ROC-AUC')\n",
    "ax[1].legend(loc='upper right')\n",
    "ax[1].set_title('Training and Validation ROC AUC')\n",
    "\n",
    "plt.tight_layout()\n",
    "plt.show()"
   ]
  },
  {
   "cell_type": "markdown",
   "id": "0de2a594-0749-4aae-ba49-23584dc95d60",
   "metadata": {},
   "source": [
    "## Evaluate Model"
   ]
  },
  {
   "cell_type": "code",
   "execution_count": 53,
   "id": "5154df01-28ad-48e0-aecd-d0322f599da1",
   "metadata": {
    "tags": []
   },
   "outputs": [
    {
     "name": "stdout",
     "output_type": "stream",
     "text": [
      "\n",
      "ROC-AUC:   0.90064\n",
      "Loss:      0.44157\n",
      "\n"
     ]
    }
   ],
   "source": [
    "loss, roc_auc_score = model.evaluate(test_ds, verbose=0)\n",
    "print(f\"\\nROC-AUC:   {roc_auc_score:.5f}\", \n",
    "      f\"Loss:      {loss:.5f}\\n\", sep=\"\\n\")"
   ]
  },
  {
   "cell_type": "code",
   "execution_count": 54,
   "id": "6522ae2e-43b3-4839-9e0d-4efa439e2208",
   "metadata": {
    "tags": []
   },
   "outputs": [],
   "source": [
    "def plot_confusion_matrix(ax, cm, classes, normalize=False, title='Confusion matrix', cmap=plt.cm.Blues):\n",
    "\n",
    "    print(cm)\n",
    "\n",
    "    ax.imshow(cm, interpolation='nearest', cmap=cmap)\n",
    "    ax.set_title(title)\n",
    "    # ax.colorbar()\n",
    "    tick_marks = np.arange(len(classes))\n",
    "    ax.set_xticks(tick_marks)\n",
    "    ax.set_yticks(tick_marks)\n",
    "    ax.set_xticklabels(classes)\n",
    "    ax.set_yticklabels(classes)\n",
    "\n",
    "    fmt = 'd'\n",
    "    thresh = cm.max() / 2.\n",
    "    for i, j in itertools.product(range(cm.shape[0]), range(cm.shape[1])):\n",
    "        ax.text(j, i, format(cm[i, j], fmt),\n",
    "                 horizontalalignment=\"center\",\n",
    "                 color=\"white\" if cm[i, j] > thresh else \"black\")\n",
    "\n",
    "    ax.set_ylabel('True label')\n",
    "    ax.set_xlabel('Predicted label')\n",
    "    \n",
    "\n",
    "def plot_roc_curve(ax, fpr, tpr, roc_auc):\n",
    "\n",
    "    ax.plot(fpr, tpr, color='darkorange', lw=2, label='ROC curve (area = %0.2f)' % roc_auc)\n",
    "    ax.plot([0, 1], [0, 1], color='navy', lw=2, linestyle='--')\n",
    "    ax.set_xlim([0.0, 1.0])\n",
    "    ax.set_ylim([0.0, 1.05])\n",
    "    ax.set_xlabel('False Positive Rate')\n",
    "    ax.set_ylabel('True Positive Rate')\n",
    "    # ax.set_title('Receiver Operating Characteristic for Class: ')\n",
    "    ax.legend(loc=\"lower right\")\n",
    "    \n",
    "\n",
    "def evaluate_model_on_dataset(model, dataset, thres=0.5):\n",
    "    true_labels = []\n",
    "    predicted_probs = []\n",
    "\n",
    "    for batch in dataset:\n",
    "        images, labels = batch\n",
    "        true_labels.extend(labels.numpy())\n",
    "        predictions = model.predict(images)\n",
    "        predicted_probs.extend(predictions)\n",
    "\n",
    "    true_labels = np.array(true_labels)\n",
    "    predicted_probs = np.array(predicted_probs)\n",
    "\n",
    "    predicted_classes = (predicted_probs > thres).astype('int')\n",
    "\n",
    "    # Calculate confusion matrix\n",
    "    confusion_mtx = confusion_matrix(true_labels, predicted_classes)\n",
    "\n",
    "    # Calculate ROC curve and AUC score\n",
    "    fpr_curve, tpr_curve, _ = roc_curve(true_labels, predicted_probs)\n",
    "    roc_auc = AUC(fpr_curve, tpr_curve)\n",
    "\n",
    "    return confusion_mtx, fpr_curve, tpr_curve, roc_auc, thres"
   ]
  },
  {
   "cell_type": "code",
   "execution_count": 55,
   "id": "61b4d711-d9c0-441f-9467-3533d4b50474",
   "metadata": {
    "tags": []
   },
   "outputs": [
    {
     "name": "stdout",
     "output_type": "stream",
     "text": [
      "1/1 [==============================] - 2s 2s/step\n",
      "1/1 [==============================] - 0s 32ms/step\n",
      "1/1 [==============================] - 0s 34ms/step\n",
      "1/1 [==============================] - 0s 33ms/step\n",
      "1/1 [==============================] - 0s 32ms/step\n",
      "1/1 [==============================] - 0s 33ms/step\n",
      "1/1 [==============================] - 0s 33ms/step\n",
      "1/1 [==============================] - 0s 33ms/step\n",
      "1/1 [==============================] - 0s 31ms/step\n",
      "1/1 [==============================] - 0s 33ms/step\n",
      "1/1 [==============================] - 0s 38ms/step\n",
      "1/1 [==============================] - 0s 40ms/step\n",
      "1/1 [==============================] - 0s 36ms/step\n",
      "1/1 [==============================] - 0s 33ms/step\n",
      "1/1 [==============================] - 0s 34ms/step\n",
      "1/1 [==============================] - 0s 34ms/step\n",
      "1/1 [==============================] - 0s 33ms/step\n",
      "1/1 [==============================] - 0s 35ms/step\n",
      "1/1 [==============================] - 0s 35ms/step\n",
      "1/1 [==============================] - 0s 35ms/step\n",
      "1/1 [==============================] - 0s 33ms/step\n",
      "1/1 [==============================] - 0s 34ms/step\n",
      "1/1 [==============================] - 0s 32ms/step\n",
      "1/1 [==============================] - 0s 33ms/step\n",
      "1/1 [==============================] - 0s 36ms/step\n",
      "1/1 [==============================] - 0s 36ms/step\n",
      "1/1 [==============================] - 0s 35ms/step\n",
      "1/1 [==============================] - 0s 36ms/step\n",
      "1/1 [==============================] - 0s 36ms/step\n",
      "1/1 [==============================] - 0s 36ms/step\n",
      "1/1 [==============================] - 0s 34ms/step\n",
      "1/1 [==============================] - 0s 33ms/step\n",
      "1/1 [==============================] - 0s 34ms/step\n",
      "1/1 [==============================] - 0s 32ms/step\n",
      "1/1 [==============================] - 0s 36ms/step\n",
      "1/1 [==============================] - 0s 34ms/step\n",
      "1/1 [==============================] - 0s 35ms/step\n",
      "1/1 [==============================] - 0s 38ms/step\n",
      "1/1 [==============================] - 0s 37ms/step\n",
      "1/1 [==============================] - 0s 37ms/step\n",
      "1/1 [==============================] - 0s 34ms/step\n",
      "1/1 [==============================] - 0s 33ms/step\n",
      "1/1 [==============================] - 0s 34ms/step\n",
      "1/1 [==============================] - 0s 35ms/step\n",
      "1/1 [==============================] - 0s 35ms/step\n",
      "1/1 [==============================] - 0s 36ms/step\n",
      "1/1 [==============================] - 0s 36ms/step\n",
      "1/1 [==============================] - 0s 35ms/step\n",
      "1/1 [==============================] - 0s 34ms/step\n",
      "1/1 [==============================] - 0s 34ms/step\n",
      "1/1 [==============================] - 0s 31ms/step\n",
      "1/1 [==============================] - 0s 33ms/step\n",
      "1/1 [==============================] - 0s 34ms/step\n",
      "1/1 [==============================] - 0s 34ms/step\n",
      "1/1 [==============================] - 0s 33ms/step\n",
      "1/1 [==============================] - 0s 34ms/step\n",
      "1/1 [==============================] - 0s 35ms/step\n",
      "1/1 [==============================] - 0s 35ms/step\n",
      "1/1 [==============================] - 0s 36ms/step\n",
      "1/1 [==============================] - 0s 37ms/step\n",
      "1/1 [==============================] - 0s 37ms/step\n",
      "1/1 [==============================] - 0s 32ms/step\n",
      "1/1 [==============================] - 0s 31ms/step\n",
      "1/1 [==============================] - 0s 32ms/step\n",
      "1/1 [==============================] - 0s 37ms/step\n",
      "1/1 [==============================] - 0s 36ms/step\n",
      "1/1 [==============================] - 0s 33ms/step\n",
      "1/1 [==============================] - 0s 33ms/step\n",
      "1/1 [==============================] - 0s 34ms/step\n",
      "1/1 [==============================] - 0s 35ms/step\n",
      "1/1 [==============================] - 0s 36ms/step\n",
      "1/1 [==============================] - 0s 34ms/step\n",
      "1/1 [==============================] - 0s 34ms/step\n",
      "1/1 [==============================] - 0s 32ms/step\n",
      "1/1 [==============================] - 0s 33ms/step\n",
      "1/1 [==============================] - 0s 39ms/step\n",
      "1/1 [==============================] - 0s 36ms/step\n",
      "1/1 [==============================] - 0s 35ms/step\n",
      "1/1 [==============================] - 0s 34ms/step\n",
      "1/1 [==============================] - 0s 35ms/step\n",
      "1/1 [==============================] - 0s 35ms/step\n",
      "1/1 [==============================] - 0s 37ms/step\n",
      "1/1 [==============================] - 0s 38ms/step\n",
      "1/1 [==============================] - 0s 32ms/step\n",
      "1/1 [==============================] - 0s 30ms/step\n",
      "1/1 [==============================] - 0s 29ms/step\n",
      "[[ 484  240]\n",
      " [ 170 1509]]\n"
     ]
    },
    {
     "data": {
      "image/png": "[encoded data removed]",
      "text/plain": [
       "<Figure size 1500x600 with 2 Axes>"
      ]
     },
     "metadata": {},
     "output_type": "display_data"
    }
   ],
   "source": [
    "# Evaluate the model on the dataset and get evaluation results\n",
    "confusion_mtx, fpr, tpr, roc_auc, thresholds = evaluate_model_on_dataset(model, test_ds, thres=0.3)\n",
    "# print(f\"Optimal Threshold: {optimal_threshold}\")\n",
    "# Plot confusion matrix and ROC curve\n",
    "class_names = [\"benign\", \"malignant\"]  # Modify based on your classes\n",
    "fig, axs = plt.subplots(1, 2, figsize=(15, 6))\n",
    "\n",
    "# Plot confusion matrix\n",
    "plot_confusion_matrix(axs[0], confusion_mtx, class_names)\n",
    "\n",
    "# Plot ROC curve\n",
    "plot_roc_curve(axs[1], fpr, tpr, roc_auc)\n",
    "axs[1].set_title('ROC Curve')\n",
    "\n",
    "plt.tight_layout()\n",
    "plt.show()"
   ]
  },
  {
   "cell_type": "code",
   "execution_count": null,
   "id": "d6c8771e-9498-49ba-9d40-408d20a68d41",
   "metadata": {},
   "outputs": [],
   "source": []
  },
  {
   "cell_type": "code",
   "execution_count": null,
   "id": "a47cc47b-96da-41c2-8d8c-3e61b60155c7",
   "metadata": {},
   "outputs": [],
   "source": []
  }
 ],
 "metadata": {
  "kernelspec": {
   "display_name": "Python [conda env:tf]",
   "language": "python",
   "name": "conda-env-tf-py"
  },
  "language_info": {
   "codemirror_mode": {
    "name": "ipython",
    "version": 3
   },
   "file_extension": ".py",
   "mimetype": "text/x-python",
   "name": "python",
   "nbconvert_exporter": "python",
   "pygments_lexer": "ipython3",
   "version": "3.9.17"
  }
 },
 "nbformat": 4,
 "nbformat_minor": 5
}
